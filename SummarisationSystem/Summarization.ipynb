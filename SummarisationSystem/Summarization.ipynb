{
  "nbformat": 4,
  "nbformat_minor": 0,
  "metadata": {
    "colab": {
      "provenance": []
    },
    "kernelspec": {
      "name": "python3",
      "display_name": "Python 3"
    },
    "language_info": {
      "name": "python"
    }
  },
  "cells": [
    {
      "cell_type": "code",
      "execution_count": 4,
      "metadata": {
        "colab": {
          "base_uri": "https://localhost:8080/"
        },
        "id": "UVUkijMxE3M6",
        "outputId": "c09d41b3-a375-4db3-e0a8-c73b8d0a13dc"
      },
      "outputs": [
        {
          "output_type": "stream",
          "name": "stdout",
          "text": [
            "Regional Augmented Generation (RAG) aims to address disparities in energy availability and support economic growth. It prioritizes reducing dependency on fossil fuels, minimizing carbon footprints, and enhancing energy security. The implementation of RAG involves advanced forecasting, optimized grid management, and real-time monitoring.\n"
          ]
        }
      ],
      "source": [
        "import torch\n",
        "from transformers import BartForConditionalGeneration, BartTokenizer\n",
        "\n",
        "model = BartForConditionalGeneration.from_pretrained('facebook/bart-large-cnn')\n",
        "tokenizer = BartTokenizer.from_pretrained('facebook/bart-large-cnn')\n",
        "\n",
        "def summarize_bart(text, max_length=150):\n",
        "    input_ids = tokenizer.encode(text, return_tensors=\"pt\")\n",
        "    output = model.generate(input_ids, max_length=max_length)\n",
        "    summary = tokenizer.decode(output[0], skip_special_tokens=True)\n",
        "    return summary\n",
        "\n",
        "text = \"\"\"Regional Augmented Generation (RAG) refers to the strategic enhancement of power generation\n",
        "capabilities within specific regions to meet increasing energy demands. This approach focuses\n",
        "on integrating renewable energy sources like solar, wind, and hydro with traditional power\n",
        "plants to ensure reliable and sustainable energy supply. By augmenting generation in critical\n",
        "areas, RAG aims to address disparities in energy availability and support economic growth.\n",
        " The implementation of RAG involves advanced forecasting, optimized grid management, and\n",
        " real-time\n",
        "monitoring of energy production. It prioritizes reducing dependency on fossil fuels, minimizing\n",
        "carbon footprints, and enhancing energy security. As energy needs grow, RAG plays a vital role in\n",
        "enabling regions to achieve self-sufficiency and contribute to global sustainability goals\"\"\"\n",
        "print(summarize_bart(text))\n",
        "\n",
        "summarised = len(summarize_bart(text))"
      ]
    },
    {
      "cell_type": "code",
      "source": [
        "text = \"\"\"Regional Augmented Generation (RAG) refers to the strategic enhancement of power generation\n",
        "capabilities within specific regions to meet increasing energy demands. This approach focuses\n",
        "on integrating renewable energy sources like solar, wind, and hydro with traditional power\n",
        "plants to ensure reliable and sustainable energy supply. By augmenting generation in critical\n",
        "areas, RAG aims to address disparities in energy availability and support economic growth.\n",
        " The implementation of RAG involves advanced forecasting, optimized grid management, and\n",
        " real-time\n",
        "monitoring of energy production. It prioritizes reducing dependency on fossil fuels, minimizing\n",
        "carbon footprints, and enhancing energy security. As energy needs grow, RAG plays a vital role in\n",
        "enabling regions to achieve self-sufficiency and contribute to global sustainability goals\"\"\"\n",
        "\n",
        "print(\"Original Text length:\",len(text))\n",
        "print(\"Summarised Text Length:\", summarised)\n",
        "\n"
      ],
      "metadata": {
        "id": "nrbh8_VSHkuq",
        "outputId": "8f5be176-ea9e-4f2c-afd5-c4c671ed0e58",
        "colab": {
          "base_uri": "https://localhost:8080/"
        }
      },
      "execution_count": 6,
      "outputs": [
        {
          "output_type": "stream",
          "name": "stdout",
          "text": [
            "Original Text length: 853\n",
            "Summarised Text Length: 338\n"
          ]
        }
      ]
    },
    {
      "cell_type": "code",
      "source": [],
      "metadata": {
        "id": "I07ob-ulH_k-"
      },
      "execution_count": 3,
      "outputs": []
    }
  ]
}